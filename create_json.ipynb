{
 "cells": [
  {
   "cell_type": "code",
   "execution_count": 5,
   "metadata": {},
   "outputs": [],
   "source": [
    "import os\n",
    "import xml.etree.ElementTree as ET\n",
    "import json\n",
    "import random"
   ]
  },
  {
   "cell_type": "code",
   "execution_count": 6,
   "metadata": {},
   "outputs": [],
   "source": [
    "val_dir = './datasets/kaist-rgbt/val.txt'\n",
    "\n",
    "txt_dir = \"./datasets/kaist-rgbt/train/labels\"\n",
    "xml_dir = \"./datasets/kaist-rgbt/train/labels-xml\"\n",
    "\n",
    "json_dir = './utils/eval/KAIST_annotation2.json'"
   ]
  },
  {
   "cell_type": "code",
   "execution_count": 7,
   "metadata": {},
   "outputs": [],
   "source": [
    "annotation = {\n",
    "    \"info\": {\n",
    "        \"dataset\": \"KAIST Multispectral Pedestrian Benchmark\",\n",
    "        \"url\": \"https://soonminhwang.github.io/rgbt-ped-detection/\",\n",
    "        \"related_project_url\": \"http://multispectral.kaist.ac.kr\",\n",
    "        \"publish\": \"CVPR 2015\"\n",
    "    },\n",
    "    \"info_improved\": {\n",
    "        \"sanitized_annotation\": {\n",
    "            \"publish\": \"BMVC 2018\",\n",
    "            \"url\": \"https://li-chengyang.github.io/home/MSDS-RCNN/\",\n",
    "            \"target\": \"files in train-all-02.txt (set00-set05)\"\n",
    "        },\n",
    "        \"improved_annotation\": {\n",
    "            \"url\": \"https://github.com/denny1108/multispectral-pedestrian-py-faster-rcnn\",\n",
    "            \"publish\": \"BMVC 2016\",\n",
    "            \"target\": \"files in test-all-20.txt (set06-set11)\"\n",
    "        }\n",
    "    },\n",
    "    \"images\": [],\n",
    "    \"annotations\": [],\n",
    "    \"categories\": [\n",
    "        {\n",
    "            \"id\": 0,\n",
    "            \"name\": \"person\"\n",
    "        },\n",
    "        {\n",
    "            \"id\": 1,\n",
    "            \"name\": \"cyclist\"\n",
    "        },\n",
    "        {\n",
    "            \"id\": 2,\n",
    "            \"name\": \"people\"\n",
    "        },\n",
    "        {\n",
    "            \"id\": 3,\n",
    "            \"name\": \"person?\"\n",
    "        }\n",
    "    ]\n",
    "}"
   ]
  },
  {
   "cell_type": "code",
   "execution_count": 8,
   "metadata": {},
   "outputs": [
    {
     "name": "stdout",
     "output_type": "stream",
     "text": [
      "complete\n"
     ]
    }
   ],
   "source": [
    "with open(val_dir, 'r') as file:\n",
    "    val_names = file.readlines()\n",
    "\n",
    "xml_files = [f for f in os.listdir(xml_dir) if f.endswith('.xml')]\n",
    "txt_files = [f for f in os.listdir(txt_dir) if f.endswith('.txt')]\n",
    "\n",
    "image_id = 0\n",
    "annotation_id = 0\n",
    "\n",
    "for val_name in val_names:\n",
    "    for xml_file, txt_file in zip(sorted(xml_files), sorted(txt_files)):\n",
    "        tree = ET.parse(os.path.join(xml_dir, xml_file))\n",
    "        root = tree.getroot()\n",
    "        im_name = xml_file.replace('.xml', '')\n",
    "\n",
    "        if val_name.find(im_name) != -1:\n",
    "            width = int(root.find(\"size/width\").text)\n",
    "            height = int(root.find(\"size/height\").text)\n",
    "            root.find(\"filename\")\n",
    "\n",
    "            annotation[\"images\"].append({\n",
    "                \"id\": image_id,\n",
    "                \"im_name\": im_name,\n",
    "                \"height\": height,\n",
    "                \"width\": width\n",
    "            })\n",
    "\n",
    "            with open(os.path.join(txt_dir, txt_file), 'r') as file:\n",
    "                lines = file.readlines()\n",
    "                for line in lines:\n",
    "                    if line.strip(): \n",
    "                        parts = line.strip().split()\n",
    "                        class_id = int(parts[0])\n",
    "                        x_center = float(parts[1]) * 640\n",
    "                        x_center = float(f\"{x_center:.3f}\")\n",
    "                        y_center = float(parts[2]) * 512\n",
    "                        y_center = float(f\"{y_center:.3f}\")\n",
    "                        width = float(parts[3]) * 640\n",
    "                        width = float(f\"{width:.3f}\")\n",
    "                        height = float(parts[4]) * 512\n",
    "                        height = float(f\"{height:.3f}\")\n",
    "                        ignore = int(parts[5])\n",
    "                        x_min = x_center - width / 2\n",
    "                        y_min = y_center - height / 2\n",
    "                        \n",
    "\n",
    "                        annotation[\"annotations\"].append({\n",
    "                            \"id\": annotation_id,\n",
    "                            \"image_id\": image_id,\n",
    "                            \"category_id\": class_id,\n",
    "                            \"bbox\": [x_min, y_min, width, height],\n",
    "                            \"height\": height,\n",
    "                            \"occlusion\": 0, \n",
    "                            \"ignore\": ignore\n",
    "                        })\n",
    "                        annotation_id += 1\n",
    "\n",
    "            image_id += 1\n",
    "\n",
    "        else:\n",
    "            pass\n",
    "\n",
    "with open(json_dir, 'w') as json_file:\n",
    "    json.dump(annotation, json_file, indent=4)\n",
    "\n",
    "print(\"complete\")"
   ]
  },
  {
   "cell_type": "code",
   "execution_count": null,
   "metadata": {},
   "outputs": [],
   "source": [
    "print(annotation)"
   ]
  }
 ],
 "metadata": {
  "kernelspec": {
   "display_name": "Python 3",
   "language": "python",
   "name": "python3"
  },
  "language_info": {
   "codemirror_mode": {
    "name": "ipython",
    "version": 3
   },
   "file_extension": ".py",
   "mimetype": "text/x-python",
   "name": "python",
   "nbconvert_exporter": "python",
   "pygments_lexer": "ipython3",
   "version": "3.10.12"
  }
 },
 "nbformat": 4,
 "nbformat_minor": 2
}
