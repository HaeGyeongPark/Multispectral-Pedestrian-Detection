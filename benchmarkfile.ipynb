{
 "cells": [
  {
   "cell_type": "code",
   "execution_count": 22,
   "metadata": {},
   "outputs": [
    {
     "name": "stdout",
     "output_type": "stream",
     "text": [
      "Combined JSON file saved to ./runs/train/yolov5s-rgbt/combined_predictions.json\n"
     ]
    }
   ],
   "source": [
    "import os\n",
    "import json\n",
    "\n",
    "json_dir = './runs/train/yolov5s-rgbt'\n",
    "\n",
    "combined_data = []\n",
    "\n",
    "for file_name in os.listdir(json_dir):\n",
    "    if file_name.endswith('.json'):\n",
    "        file_path = os.path.join(json_dir, file_name)\n",
    "        with open(file_path, 'r') as f:\n",
    "            data = json.load(f)\n",
    "            combined_data.extend(data)\n",
    "\n",
    "# Output file path\n",
    "output_file = os.path.join(json_dir, 'combined_predictions.json')\n",
    "\n",
    "# Write combined data to the output file\n",
    "with open(output_file, 'w') as f:\n",
    "    json.dump(combined_data, f, indent=4)\n",
    "\n",
    "print(f'Combined JSON file saved to {output_file}')"
   ]
  }
 ],
 "metadata": {
  "kernelspec": {
   "display_name": "Python 3",
   "language": "python",
   "name": "python3"
  },
  "language_info": {
   "codemirror_mode": {
    "name": "ipython",
    "version": 3
   },
   "file_extension": ".py",
   "mimetype": "text/x-python",
   "name": "python",
   "nbconvert_exporter": "python",
   "pygments_lexer": "ipython3",
   "version": "3.10.12"
  }
 },
 "nbformat": 4,
 "nbformat_minor": 2
}
