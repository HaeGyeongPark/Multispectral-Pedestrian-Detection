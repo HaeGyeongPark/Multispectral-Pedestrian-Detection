{
 "cells": [
  {
   "cell_type": "code",
   "execution_count": 1,
   "metadata": {},
   "outputs": [],
   "source": [
    "import random   "
   ]
  },
  {
   "cell_type": "code",
   "execution_count": 2,
   "metadata": {},
   "outputs": [],
   "source": [
    "filename = './datasets/kaist-rgbt/train-all-04.txt'\n",
    "trainfilename= './datasets/kaist-rgbt/train.txt'\n",
    "valfilename = './datasets/kaist-rgbt/val.txt'"
   ]
  },
  {
   "cell_type": "code",
   "execution_count": 3,
   "metadata": {},
   "outputs": [],
   "source": [
    "with open(filename, 'r') as file:\n",
    "    lines = file.readlines()\n",
    "\n",
    "random.shuffle(lines)\n",
    "\n",
    "split_index = int(0.7 * len(lines))\n",
    "train_lines = lines[:split_index]\n",
    "val_lines = lines[split_index:]\n",
    "\n",
    "with open(trainfilename, 'w') as file:\n",
    "    file.writelines(train_lines)\n",
    "\n",
    "with open(valfilename, 'w') as file:\n",
    "    file.writelines(val_lines)"
   ]
  }
 ],
 "metadata": {
  "kernelspec": {
   "display_name": "Python 3",
   "language": "python",
   "name": "python3"
  },
  "language_info": {
   "codemirror_mode": {
    "name": "ipython",
    "version": 3
   },
   "file_extension": ".py",
   "mimetype": "text/x-python",
   "name": "python",
   "nbconvert_exporter": "python",
   "pygments_lexer": "ipython3",
   "version": "3.10.12"
  }
 },
 "nbformat": 4,
 "nbformat_minor": 2
}
